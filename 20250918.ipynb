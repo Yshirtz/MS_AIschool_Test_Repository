{
 "cells": [
  {
   "cell_type": "code",
   "execution_count": 2,
   "id": "e3098b84",
   "metadata": {},
   "outputs": [
    {
     "name": "stdout",
     "output_type": "stream",
     "text": [
      "Hello VScode\n"
     ]
    }
   ],
   "source": [
    "print(\"Hello VScode\")"
   ]
  },
  {
   "cell_type": "markdown",
   "id": "9772e14c",
   "metadata": {},
   "source": [
    "## 2025/09/18"
   ]
  }
 ],
 "metadata": {
  "kernelspec": {
   "display_name": "Python 3",
   "language": "python",
   "name": "python3"
  },
  "language_info": {
   "codemirror_mode": {
    "name": "ipython",
    "version": 3
   },
   "file_extension": ".py",
   "mimetype": "text/x-python",
   "name": "python",
   "nbconvert_exporter": "python",
   "pygments_lexer": "ipython3",
   "version": "3.11.8"
  }
 },
 "nbformat": 4,
 "nbformat_minor": 5
}
